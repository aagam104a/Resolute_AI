{
 "cells": [
  {
   "cell_type": "markdown",
   "metadata": {},
   "source": [
    "# **TRAINING A CLUSTER MODEL**"
   ]
  },
  {
   "cell_type": "code",
   "execution_count": 1,
   "metadata": {},
   "outputs": [
    {
     "name": "stdout",
     "output_type": "stream",
     "text": [
      "   T1  T2  T3  T4  T5  T6  T7  T8  T9  T10  T11  T12  T13  T14  T15  T16  T17  \\\n",
      "0 -70 -61 -66 -53 -51 -63 -82 -57 -76  -78  -66  -66  -61  -59  -73  -75  -63   \n",
      "1 -77 -74 -71 -76 -65 -63 -66 -52 -55  -75  -72  -75  -74  -61  -64  -63  -53   \n",
      "2 -53 -38 -55 -66 -62 -62 -65 -70 -62  -52  -56  -53  -66  -68  -72  -60  -68   \n",
      "3 -72 -62 -59 -65 -65 -65 -78 -82 -83  -59  -84  -60  -64  -83  -69  -72  -95   \n",
      "4 -67 -69 -65 -63 -59 -53 -70 -72 -71  -60  -61  -57  -54  -76  -61  -66  -71   \n",
      "\n",
      "   T18  \n",
      "0  -77  \n",
      "1  -63  \n",
      "2  -77  \n",
      "3  -73  \n",
      "4  -80  \n"
     ]
    }
   ],
   "source": [
    "import pandas as pd\n",
    "import numpy as np\n",
    "import matplotlib.pyplot as plt\n",
    "from sklearn.cluster import KMeans\n",
    "\n",
    "df = pd.read_excel(r'Data\\Task1and2\\train.xlsx')\n",
    "df = df.drop(columns=['target'])\n",
    "print(df.head())"
   ]
  },
  {
   "cell_type": "code",
   "execution_count": 21,
   "metadata": {},
   "outputs": [
    {
     "name": "stdout",
     "output_type": "stream",
     "text": [
      "Silhouette Score for 180 clusters: 0.6795622751155713\n",
      "       T1  T2  T3  T4  T5  T6  T7  T8  T9  T10  T11  T12  T13  T14  T15  T16  \\\n",
      "0     -70 -61 -66 -53 -51 -63 -82 -57 -76  -78  -66  -66  -61  -59  -73  -75   \n",
      "1     -77 -74 -71 -76 -65 -63 -66 -52 -55  -75  -72  -75  -74  -61  -64  -63   \n",
      "2     -53 -38 -55 -66 -62 -62 -65 -70 -62  -52  -56  -53  -66  -68  -72  -60   \n",
      "3     -72 -62 -59 -65 -65 -65 -78 -82 -83  -59  -84  -60  -64  -83  -69  -72   \n",
      "4     -67 -69 -65 -63 -59 -53 -70 -72 -71  -60  -61  -57  -54  -76  -61  -66   \n",
      "...    ..  ..  ..  ..  ..  ..  ..  ..  ..  ...  ...  ...  ...  ...  ...  ...   \n",
      "36747 -68 -62 -64 -59 -59 -71 -67 -73 -73  -69  -71  -75  -56  -68  -68  -75   \n",
      "36748 -56 -50 -57 -50 -59 -60 -62 -69 -58  -64  -49  -61  -58  -56  -60  -58   \n",
      "36749 -42 -58 -72 -70 -75 -72 -76 -84 -84  -59  -65  -68  -65  -81  -86  -70   \n",
      "36750 -50 -50 -70 -64 -64 -68 -68 -73 -79  -58  -61  -73  -67  -77  -73  -74   \n",
      "36751 -66 -64 -70 -62 -59 -62 -53 -58 -64  -80  -73  -83  -67  -61  -56  -61   \n",
      "\n",
      "       T17  T18  Cluster  \n",
      "0      -63  -77       96  \n",
      "1      -53  -63       83  \n",
      "2      -68  -77       99  \n",
      "3      -95  -73       54  \n",
      "4      -71  -80       69  \n",
      "...    ...  ...      ...  \n",
      "36747  -75  -95       79  \n",
      "36748  -59  -64       87  \n",
      "36749  -75  -74      109  \n",
      "36750  -72  -81      129  \n",
      "36751  -67  -65        2  \n",
      "\n",
      "[36752 rows x 19 columns]\n"
     ]
    }
   ],
   "source": [
    "from sklearn.metrics import silhouette_score\n",
    "\n",
    "# Number of clusters\n",
    "k = 180\n",
    "\n",
    "# Creating KMeans model with 5 clusters\n",
    "kmeans = KMeans(n_clusters=k, random_state=42)\n",
    "# Fitting the model to the data\n",
    "kmeans.fit(df)\n",
    "\n",
    "# Printing silhouette score\n",
    "silhouette_avg = silhouette_score(df, kmeans.labels_)\n",
    "print(f\"Silhouette Score for {k} clusters:\", silhouette_avg)\n",
    "\n",
    "# Adding a new column to the DataFrame indicating the cluster for each row\n",
    "df['Cluster'] = kmeans.labels_\n",
    "\n",
    "# Printing DataFrame with cluster information\n",
    "print(df)"
   ]
  },
  {
   "cell_type": "code",
   "execution_count": 22,
   "metadata": {},
   "outputs": [],
   "source": [
    "import plotly.express as px\n",
    "from sklearn.decomposition import PCA\n",
    "\n",
    "# Reduce dimensionality using PCA\n",
    "pca = PCA(n_components=3, random_state=42)\n",
    "X_pca = pca.fit_transform(df.drop(columns=['Cluster']))  # Dropping the 'Cluster' column\n",
    "\n",
    "# Create a DataFrame with PCA components and cluster labels\n",
    "pca_df = pd.DataFrame(data=X_pca, columns=['PC1', 'PC2', 'PC3'])\n",
    "pca_df['Cluster'] = df['Cluster']\n",
    "\n",
    "# Plot clusters in 3D using Plotly\n",
    "fig = px.scatter_3d(pca_df, x='PC1', y='PC2', z='PC3', color='Cluster', opacity=0.7,\n",
    "                    title='PCA Visualization of Clusters', labels={'Cluster': 'Cluster'})\n",
    "fig.update_layout(scene=dict(xaxis_title='PC1', yaxis_title='PC2', zaxis_title='PC3'))\n",
    "\n",
    "# Save the Plotly figure as an HTML file\n",
    "fig.write_html('pca_clusters.html')"
   ]
  }
 ],
 "metadata": {
  "kernelspec": {
   "display_name": "Python 3",
   "language": "python",
   "name": "python3"
  },
  "language_info": {
   "codemirror_mode": {
    "name": "ipython",
    "version": 3
   },
   "file_extension": ".py",
   "mimetype": "text/x-python",
   "name": "python",
   "nbconvert_exporter": "python",
   "pygments_lexer": "ipython3",
   "version": "3.9.2rc1"
  }
 },
 "nbformat": 4,
 "nbformat_minor": 2
}
